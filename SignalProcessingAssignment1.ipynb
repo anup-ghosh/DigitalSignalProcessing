{
  "nbformat": 4,
  "nbformat_minor": 0,
  "metadata": {
    "colab": {
      "provenance": [],
      "include_colab_link": true
    },
    "kernelspec": {
      "name": "python3",
      "display_name": "Python 3"
    },
    "language_info": {
      "name": "python"
    }
  },
  "cells": [
    {
      "cell_type": "markdown",
      "metadata": {
        "id": "view-in-github",
        "colab_type": "text"
      },
      "source": [
        "<a href=\"https://colab.research.google.com/github/anup-ghosh/DigitalSignalProcessing/blob/main/SignalProcessingAssignment1.ipynb\" target=\"_parent\"><img src=\"https://colab.research.google.com/assets/colab-badge.svg\" alt=\"Open In Colab\"/></a>"
      ]
    },
    {
      "cell_type": "markdown",
      "source": [
        "# Import ***numpy*** and ***matplotlib***"
      ],
      "metadata": {
        "id": "Fn30_EhBaAJ6"
      }
    },
    {
      "cell_type": "code",
      "execution_count": null,
      "metadata": {
        "id": "zcB18Ds3MhUH"
      },
      "outputs": [],
      "source": [
        "import numpy as np\n",
        "import matplotlib.pyplot as plt"
      ]
    },
    {
      "cell_type": "markdown",
      "source": [
        "# Take a range of numbers(here I used -20 t0 20)"
      ],
      "metadata": {
        "id": "8IAM2iTHaUBz"
      }
    },
    {
      "cell_type": "code",
      "source": [
        "n = np.arange(-20,21)\n",
        "n"
      ],
      "metadata": {
        "colab": {
          "base_uri": "https://localhost:8080/"
        },
        "id": "hJHnLn1YMo6R",
        "outputId": "41d0a87b-5c7b-476c-e07a-644a6b33ba40"
      },
      "execution_count": null,
      "outputs": [
        {
          "output_type": "execute_result",
          "data": {
            "text/plain": [
              "array([-20, -19, -18, -17, -16, -15, -14, -13, -12, -11, -10,  -9,  -8,\n",
              "        -7,  -6,  -5,  -4,  -3,  -2,  -1,   0,   1,   2,   3,   4,   5,\n",
              "         6,   7,   8,   9,  10,  11,  12,  13,  14,  15,  16,  17,  18,\n",
              "        19,  20])"
            ]
          },
          "metadata": {},
          "execution_count": 2
        }
      ]
    },
    {
      "cell_type": "markdown",
      "source": [
        "#Calculate the *x(n)* with the given condition\n",
        "# `x(n)=(n*n)+n` when *0<=n<=10*;\n",
        "#`x(n)=n-(n*n)` when *-10<=n<0*;\n",
        "#`x(n)=0` *otherwise.*"
      ],
      "metadata": {
        "id": "RbV_hoVyagLz"
      }
    },
    {
      "cell_type": "code",
      "source": [
        "xn = []\n",
        "for i in  n:\n",
        "  if(i>=0 and i<=10):\n",
        "    xn.append(i*i+i)\n",
        "  elif(i>=-10 and i<0):\n",
        "    xn.append(i-i*i)\n",
        "  else:\n",
        "    xn.append(0)\n",
        "xxn = np.array(xn)\n",
        "xxn"
      ],
      "metadata": {
        "colab": {
          "base_uri": "https://localhost:8080/"
        },
        "id": "lBI9xH4QMtEP",
        "outputId": "670fba70-8ceb-4af2-a2a2-08ed5804af26"
      },
      "execution_count": null,
      "outputs": [
        {
          "output_type": "execute_result",
          "data": {
            "text/plain": [
              "array([   0,    0,    0,    0,    0,    0,    0,    0,    0,    0, -110,\n",
              "        -90,  -72,  -56,  -42,  -30,  -20,  -12,   -6,   -2,    0,    2,\n",
              "          6,   12,   20,   30,   42,   56,   72,   90,  110,    0,    0,\n",
              "          0,    0,    0,    0,    0,    0,    0,    0])"
            ]
          },
          "metadata": {},
          "execution_count": 3
        }
      ]
    },
    {
      "cell_type": "markdown",
      "source": [
        "# The discrete valued graph of the signal `x(n)`"
      ],
      "metadata": {
        "id": "dsiKeK-2brHI"
      }
    },
    {
      "cell_type": "code",
      "source": [
        "plt.stem(n,xxn)"
      ],
      "metadata": {
        "colab": {
          "base_uri": "https://localhost:8080/",
          "height": 447
        },
        "id": "zzrOdrY7NUoB",
        "outputId": "d3b17c7b-ebf8-412e-9c64-07c42e515316"
      },
      "execution_count": 9,
      "outputs": [
        {
          "output_type": "execute_result",
          "data": {
            "text/plain": [
              "<StemContainer object of 3 artists>"
            ]
          },
          "metadata": {},
          "execution_count": 9
        },
        {
          "output_type": "display_data",
          "data": {
            "text/plain": [
              "<Figure size 640x480 with 1 Axes>"
            ],
            "image/png": "[encoded data removed]"
          },
          "metadata": {}
        }
      ]
    },
    {
      "cell_type": "markdown",
      "source": [
        "# Creating the signal y(n) without folding\n",
        "# The formula is: `y(n)=[2x(n-5)*2x(n+5)]`"
      ],
      "metadata": {
        "id": "XC8G_O8Wb303"
      }
    },
    {
      "cell_type": "code",
      "source": [
        "pxn = []\n",
        "for i in n:\n",
        "  if(i+20-5>=0 and i+20+5<41):\n",
        "    pxn.append(2*xn[i+20-5]*2*xn[i+20+5])\n",
        "\n",
        "pxn"
      ],
      "metadata": {
        "colab": {
          "base_uri": "https://localhost:8080/"
        },
        "id": "sJV7r0-NNhAe",
        "outputId": "d0bb885b-73de-4511-99ca-cd82173348a8"
      },
      "execution_count": 10,
      "outputs": [
        {
          "output_type": "execute_result",
          "data": {
            "text/plain": [
              "[0,\n",
              " 0,\n",
              " 0,\n",
              " 0,\n",
              " 0,\n",
              " 0,\n",
              " 0,\n",
              " 0,\n",
              " 0,\n",
              " 0,\n",
              " 0,\n",
              " -720,\n",
              " -1728,\n",
              " -2688,\n",
              " -3360,\n",
              " -3600,\n",
              " -3360,\n",
              " -2688,\n",
              " -1728,\n",
              " -720,\n",
              " 0,\n",
              " 0,\n",
              " 0,\n",
              " 0,\n",
              " 0,\n",
              " 0,\n",
              " 0,\n",
              " 0,\n",
              " 0,\n",
              " 0,\n",
              " 0]"
            ]
          },
          "metadata": {},
          "execution_count": 10
        }
      ]
    },
    {
      "cell_type": "markdown",
      "source": [
        "#Resize the range n"
      ],
      "metadata": {
        "id": "w5Yev9GOcgES"
      }
    },
    {
      "cell_type": "code",
      "source": [
        "nn = n[5:n.size-5]\n",
        "nn"
      ],
      "metadata": {
        "colab": {
          "base_uri": "https://localhost:8080/"
        },
        "id": "bM1OnqHhOj1Q",
        "outputId": "5fa51103-b338-4844-a2b3-9c680aaab798"
      },
      "execution_count": 11,
      "outputs": [
        {
          "output_type": "execute_result",
          "data": {
            "text/plain": [
              "array([-15, -14, -13, -12, -11, -10,  -9,  -8,  -7,  -6,  -5,  -4,  -3,\n",
              "        -2,  -1,   0,   1,   2,   3,   4,   5,   6,   7,   8,   9,  10,\n",
              "        11,  12,  13,  14,  15])"
            ]
          },
          "metadata": {},
          "execution_count": 11
        }
      ]
    },
    {
      "cell_type": "markdown",
      "source": [
        "#Graphical presentation of `y(n)` without folding"
      ],
      "metadata": {
        "id": "1PXrU-_wctQo"
      }
    },
    {
      "cell_type": "code",
      "source": [
        "plt.stem(nn,pxn)"
      ],
      "metadata": {
        "colab": {
          "base_uri": "https://localhost:8080/",
          "height": 447
        },
        "id": "sVzHAuR5O4RX",
        "outputId": "53b045da-efe3-484d-80c3-b8f2f13d3496"
      },
      "execution_count": 12,
      "outputs": [
        {
          "output_type": "execute_result",
          "data": {
            "text/plain": [
              "<StemContainer object of 3 artists>"
            ]
          },
          "metadata": {},
          "execution_count": 12
        },
        {
          "output_type": "display_data",
          "data": {
            "text/plain": [
              "<Figure size 640x480 with 1 Axes>"
            ],
            "image/png": "[encoded data removed]"
          },
          "metadata": {}
        }
      ]
    },
    {
      "cell_type": "markdown",
      "source": [
        "# Fold `y(n)` to get final output and represent in the graphical form.\n",
        "#Final equation: `y(n)=-[2x(n-5)*2x(n+5)]`"
      ],
      "metadata": {
        "id": "zh0RUH75c2LZ"
      }
    },
    {
      "cell_type": "code",
      "source": [
        "nn = np.array(nn*-1)\n",
        "plt.stem(nn,pxn)"
      ],
      "metadata": {
        "colab": {
          "base_uri": "https://localhost:8080/",
          "height": 447
        },
        "id": "9wepNNQlO-rS",
        "outputId": "e9d63887-cecc-4419-a30f-0f80584716f8"
      },
      "execution_count": 13,
      "outputs": [
        {
          "output_type": "execute_result",
          "data": {
            "text/plain": [
              "<StemContainer object of 3 artists>"
            ]
          },
          "metadata": {},
          "execution_count": 13
        },
        {
          "output_type": "display_data",
          "data": {
            "text/plain": [
              "<Figure size 640x480 with 1 Axes>"
            ],
            "image/png": "[encoded data removed]"
          },
          "metadata": {}
        }
      ]
    }
  ]
}