{
  "nbformat": 4,
  "nbformat_minor": 0,
  "metadata": {
    "colab": {
      "provenance": [],
      "authorship_tag": "ABX9TyP3vb/3qVwV1RGstLXqP4VB",
      "include_colab_link": true
    },
    "kernelspec": {
      "name": "python3",
      "display_name": "Python 3"
    },
    "language_info": {
      "name": "python"
    }
  },
  "cells": [
    {
      "cell_type": "markdown",
      "metadata": {
        "id": "view-in-github",
        "colab_type": "text"
      },
      "source": [
        "<a href=\"https://colab.research.google.com/github/anup-ghosh/DigitalSignalProcessing/blob/main/Lab2.ipynb\" target=\"_parent\"><img src=\"https://colab.research.google.com/assets/colab-badge.svg\" alt=\"Open In Colab\"/></a>"
      ]
    },
    {
      "cell_type": "code",
      "execution_count": 1,
      "metadata": {
        "id": "uf4-oQo_sBIi"
      },
      "outputs": [],
      "source": [
        "import numpy as np\n",
        "import matplotlib.pyplot as plt\n",
        "\n",
        "# unit step signal\n",
        "# unit impulse signal\n",
        "# unit ramp signal\n",
        "# n**2 for o<n<5\n",
        "# n for n>=5\n",
        "# -n for n<0"
      ]
    },
    {
      "cell_type": "code",
      "source": [
        "def unitstep(n):\n",
        "    y = []\n",
        "    for temp in n:\n",
        "      if(temp>=0):\n",
        "        y.append(1)\n",
        "      else:\n",
        "        y.append(0)\n",
        "    return y\n",
        "\n",
        "\n"
      ],
      "metadata": {
        "id": "4GmLbNh1si3e"
      },
      "execution_count": 2,
      "outputs": []
    },
    {
      "cell_type": "code",
      "source": [
        "def unitramp(n):\n",
        "    y = []\n",
        "    for temp in n:\n",
        "      if(temp>=0):\n",
        "        y.append(temp)\n",
        "      else:\n",
        "        y.append(0)\n",
        "    return y"
      ],
      "metadata": {
        "id": "fqiyGJqctw8b"
      },
      "execution_count": 6,
      "outputs": []
    },
    {
      "cell_type": "code",
      "source": [
        "def customsignal(n):\n",
        "    y = []\n",
        "    for temp in n:\n",
        "      if(temp>=0 and temp<5):\n",
        "        y.append(temp*temp)\n",
        "      elif(temp>=5):\n",
        "        y.append(temp)\n",
        "      else:\n",
        "        y.append(-temp)\n",
        "    return y"
      ],
      "metadata": {
        "id": "fbdNreYsuL1k"
      },
      "execution_count": 4,
      "outputs": []
    },
    {
      "cell_type": "code",
      "source": [
        "n= np.arange(-10,10)\n",
        "x= customsignal(n)\n",
        "plt.stem(n,x)"
      ],
      "metadata": {
        "colab": {
          "base_uri": "https://localhost:8080/",
          "height": 447
        },
        "id": "zHUXZt9MtrpW",
        "outputId": "86178b1c-0d4f-401b-c2c4-d0c9d3fef471"
      },
      "execution_count": 5,
      "outputs": [
        {
          "output_type": "execute_result",
          "data": {
            "text/plain": [
              "<StemContainer object of 3 artists>"
            ]
          },
          "metadata": {},
          "execution_count": 5
        },
        {
          "output_type": "display_data",
          "data": {
            "text/plain": [
              "<Figure size 640x480 with 1 Axes>"
            ],
            "image/png": "[encoded data removed]"
          },
          "metadata": {}
        }
      ]
    },
    {
      "cell_type": "code",
      "source": [
        "from scipy.fft import fft, ifft,fftfreq"
      ],
      "metadata": {
        "id": "j8n93lGIu9wb"
      },
      "execution_count": 7,
      "outputs": []
    },
    {
      "cell_type": "code",
      "source": [
        "# NUmber of sample points\n",
        "N= 600\n",
        "# sample spacing\n",
        "T= 1.0/800.0\n",
        "n= np.linspace(0,N*T,N)\n",
        "# n\n",
        "\n",
        "xn = np.sin(2*np.pi*n)\n",
        "xn"
      ],
      "metadata": {
        "colab": {
          "base_uri": "https://localhost:8080/"
        },
        "id": "cdhJg8h_vAJb",
        "outputId": "1cb22ae2-b216-4a3b-9bfe-f8237ed09b3d"
      },
      "execution_count": 8,
      "outputs": [
        {
          "output_type": "execute_result",
          "data": {
            "text/plain": [
              "array([ 0.        ,  0.00786701,  0.01573354,  0.02359909,  0.03146318,\n",
              "        0.03932532,  0.04718503,  0.05504182,  0.06289521,  0.0707447 ,\n",
              "        0.07858981,  0.08643006,  0.09426496,  0.10209402,  0.10991677,\n",
              "        0.11773271,  0.12554137,  0.13334225,  0.14113489,  0.14891879,\n",
              "        0.15669347,  0.16445845,  0.17221326,  0.17995741,  0.18769042,\n",
              "        0.19541181,  0.20312111,  0.21081784,  0.21850152,  0.22617167,\n",
              "        0.23382783,  0.24146952,  0.24909626,  0.25670759,  0.26430303,\n",
              "        0.27188211,  0.27944436,  0.28698932,  0.29451651,  0.30202548,\n",
              "        0.30951576,  0.31698687,  0.32443837,  0.3318698 ,  0.33928068,\n",
              "        0.34667056,  0.35403899,  0.3613855 ,  0.36870965,  0.37601098,\n",
              "        0.38328904,  0.39054337,  0.39777354,  0.40497908,  0.41215956,\n",
              "        0.41931454,  0.42644356,  0.43354618,  0.44062198,  0.4476705 ,\n",
              "        0.45469132,  0.461684  ,  0.4686481 ,  0.4755832 ,  0.48248886,\n",
              "        0.48936466,  0.49621018,  0.50302498,  0.50980865,  0.51656077,\n",
              "        0.52328092,  0.52996868,  0.53662364,  0.54324539,  0.54983352,\n",
              "        0.55638762,  0.56290728,  0.56939211,  0.57584169,  0.58225564,\n",
              "        0.58863354,  0.59497502,  0.60127967,  0.60754711,  0.61377695,\n",
              "        0.6199688 ,  0.62612229,  0.63223701,  0.63831261,  0.64434871,\n",
              "        0.65034492,  0.65630089,  0.66221623,  0.66809059,  0.67392361,\n",
              "        0.67971491,  0.68546414,  0.69117095,  0.69683498,  0.70245589,\n",
              "        0.70803332,  0.71356693,  0.71905637,  0.72450132,  0.72990142,\n",
              "        0.73525635,  0.74056577,  0.74582936,  0.75104679,  0.75621773,\n",
              "        0.76134187,  0.7664189 ,  0.77144848,  0.77643033,  0.78136412,\n",
              "        0.78624954,  0.79108631,  0.79587412,  0.80061267,  0.80530167,\n",
              "        0.80994082,  0.81452985,  0.81906847,  0.8235564 ,  0.82799335,\n",
              "        0.83237906,  0.83671326,  0.84099566,  0.84522602,  0.84940407,\n",
              "        0.85352954,  0.85760219,  0.86162177,  0.86558801,  0.86950069,\n",
              "        0.87335955,  0.87716435,  0.88091487,  0.88461087,  0.88825212,\n",
              "        0.89183839,  0.89536947,  0.89884513,  0.90226516,  0.90562935,\n",
              "        0.90893749,  0.91218938,  0.91538481,  0.91852358,  0.92160551,\n",
              "        0.9246304 ,  0.92759806,  0.93050831,  0.93336097,  0.93615587,\n",
              "        0.93889282,  0.94157167,  0.94419224,  0.94675438,  0.94925792,\n",
              "        0.95170271,  0.9540886 ,  0.95641543,  0.95868308,  0.96089139,\n",
              "        0.96304023,  0.96512947,  0.96715897,  0.96912862,  0.97103829,\n",
              "        0.97288786,  0.97467721,  0.97640624,  0.97807484,  0.97968291,\n",
              "        0.98123035,  0.98271705,  0.98414293,  0.98550791,  0.98681189,\n",
              "        0.98805479,  0.98923655,  0.99035708,  0.99141631,  0.99241419,\n",
              "        0.99335064,  0.99422562,  0.99503906,  0.99579092,  0.99648115,\n",
              "        0.9971097 ,  0.99767654,  0.99818164,  0.99862496,  0.99900647,\n",
              "        0.99932615,  0.99958398,  0.99977995,  0.99991404,  0.99998625,\n",
              "        0.99999656,  0.99994499,  0.99983152,  0.99965618,  0.99941897,\n",
              "        0.9991199 ,  0.998759  ,  0.99833628,  0.99785177,  0.99730551,\n",
              "        0.99669752,  0.99602784,  0.99529653,  0.99450361,  0.99364914,\n",
              "        0.99273317,  0.99175576,  0.99071697,  0.98961686,  0.98845551,\n",
              "        0.98723298,  0.98594935,  0.9846047 ,  0.98319911,  0.98173267,\n",
              "        0.98020547,  0.9786176 ,  0.97696916,  0.97526026,  0.973491  ,\n",
              "        0.97166149,  0.96977185,  0.96782218,  0.96581261,  0.96374327,\n",
              "        0.96161429,  0.95942578,  0.9571779 ,  0.95487078,  0.95250456,\n",
              "        0.95007938,  0.94759541,  0.94505279,  0.94245168,  0.93979224,\n",
              "        0.93707463,  0.93429903,  0.9314656 ,  0.92857453,  0.92562598,\n",
              "        0.92262015,  0.91955722,  0.91643737,  0.9132608 ,  0.91002772,\n",
              "        0.90673831,  0.90339278,  0.89999133,  0.89653419,  0.89302156,\n",
              "        0.88945366,  0.88583071,  0.88215294,  0.87842057,  0.87463383,\n",
              "        0.87079296,  0.8668982 ,  0.86294979,  0.85894796,  0.85489298,\n",
              "        0.85078508,  0.84662453,  0.84241158,  0.83814649,  0.83382953,\n",
              "        0.82946096,  0.82504106,  0.82057009,  0.81604834,  0.81147609,\n",
              "        0.80685361,  0.80218119,  0.79745912,  0.7926877 ,  0.78786722,\n",
              "        0.78299798,  0.77808028,  0.77311442,  0.76810071,  0.76303947,\n",
              "        0.75793099,  0.75277561,  0.74757364,  0.74232541,  0.73703123,\n",
              "        0.73169143,  0.72630635,  0.72087632,  0.71540167,  0.70988274,\n",
              "        0.70431988,  0.69871343,  0.69306373,  0.68737114,  0.68163601,\n",
              "        0.67585869,  0.67003954,  0.66417893,  0.6582772 ,  0.65233474,\n",
              "        0.6463519 ,  0.64032905,  0.63426658,  0.62816485,  0.62202425,\n",
              "        0.61584514,  0.60962792,  0.60337298,  0.59708068,  0.59075144,\n",
              "        0.58438563,  0.57798365,  0.5715459 ,  0.56507278,  0.55856469,\n",
              "        0.55202202,  0.54544519,  0.53883461,  0.53219067,  0.52551379,\n",
              "        0.5188044 ,  0.51206289,  0.50528969,  0.49848521,  0.49164989,\n",
              "        0.48478414,  0.47788838,  0.47096305,  0.46400856,  0.45702536,\n",
              "        0.45001388,  0.44297454,  0.43590779,  0.42881405,  0.42169378,\n",
              "        0.41454741,  0.40737538,  0.40017814,  0.39295614,  0.38570981,\n",
              "        0.37843961,  0.37114599,  0.36382939,  0.35649028,  0.34912911,\n",
              "        0.34174633,  0.33434239,  0.32691777,  0.31947291,  0.31200828,\n",
              "        0.30452434,  0.29702155,  0.28950038,  0.28196129,  0.27440475,\n",
              "        0.26683123,  0.25924119,  0.25163511,  0.24401345,  0.23637669,\n",
              "        0.2287253 ,  0.22105976,  0.21338054,  0.2056881 ,  0.19798294,\n",
              "        0.19026553,  0.18253634,  0.17479585,  0.16704454,  0.1592829 ,\n",
              "        0.15151139,  0.14373051,  0.13594074,  0.12814255,  0.12033643,\n",
              "        0.11252286,  0.10470233,  0.09687532,  0.08904231,  0.08120379,\n",
              "        0.07336024,  0.06551216,  0.05766002,  0.04980431,  0.04194552,\n",
              "        0.03408414,  0.02622064,  0.01835552,  0.01048927,  0.00262236,\n",
              "       -0.0052447 , -0.01311145, -0.02097738, -0.02884201, -0.03670486,\n",
              "       -0.04456543, -0.05242325, -0.06027782, -0.06812866, -0.07597529,\n",
              "       -0.08381721, -0.09165395, -0.09948501, -0.10730992, -0.11512818,\n",
              "       -0.12293932, -0.13074285, -0.13853829, -0.14632515, -0.15410296,\n",
              "       -0.16187123, -0.16962948, -0.17737724, -0.18511401, -0.19283933,\n",
              "       -0.20055271, -0.20825369, -0.21594177, -0.22361649, -0.23127736,\n",
              "       -0.23892393, -0.2465557 , -0.25417222, -0.26177301, -0.26935759,\n",
              "       -0.27692551, -0.28447628, -0.29200945, -0.29952454, -0.3070211 ,\n",
              "       -0.31449866, -0.32195675, -0.32939492, -0.33681269, -0.34420963,\n",
              "       -0.35158526, -0.35893913, -0.36627078, -0.37357977, -0.38086563,\n",
              "       -0.38812792, -0.3953662 , -0.40258   , -0.40976888, -0.41693241,\n",
              "       -0.42407013, -0.4311816 , -0.43826639, -0.44532405, -0.45235416,\n",
              "       -0.45935626, -0.46632994, -0.47327475, -0.48019027, -0.48707608,\n",
              "       -0.49393173, -0.50075682, -0.50755092, -0.5143136 , -0.52104445,\n",
              "       -0.52774305, -0.53440899, -0.54104186, -0.54764124, -0.55420673,\n",
              "       -0.56073791, -0.56723439, -0.57369577, -0.58012164, -0.5865116 ,\n",
              "       -0.59286527, -0.59918224, -0.60546213, -0.61170454, -0.6179091 ,\n",
              "       -0.62407541, -0.6302031 , -0.63629179, -0.64234109, -0.64835064,\n",
              "       -0.65432006, -0.66024899, -0.66613705, -0.67198389, -0.67778913,\n",
              "       -0.68355243, -0.68927342, -0.69495175, -0.70058707, -0.70617903,\n",
              "       -0.71172728, -0.71723149, -0.7226913 , -0.72810639, -0.73347641,\n",
              "       -0.73880104, -0.74407994, -0.74931279, -0.75449927, -0.75963905,\n",
              "       -0.76473181, -0.76977724, -0.77477504, -0.77972488, -0.78462646,\n",
              "       -0.78947948, -0.79428364, -0.79903864, -0.80374419, -0.80839999,\n",
              "       -0.81300577, -0.81756122, -0.82206607, -0.82652005, -0.83092287,\n",
              "       -0.83527426, -0.83957396, -0.8438217 , -0.84801721, -0.85216024,\n",
              "       -0.85625053, -0.86028782, -0.86427187, -0.86820243, -0.87207925,\n",
              "       -0.8759021 , -0.87967075, -0.88338494, -0.88704447, -0.89064909,\n",
              "       -0.89419859, -0.89769275, -0.90113135, -0.90451418, -0.90784102,\n",
              "       -0.91111168, -0.91432595, -0.91748363, -0.92058453, -0.92362845,\n",
              "       -0.92661521, -0.92954462, -0.93241649, -0.93523066, -0.93798695,\n",
              "       -0.94068519, -0.9433252 , -0.94590684, -0.94842992, -0.95089431,\n",
              "       -0.95329985, -0.95564639, -0.95793378, -0.96016189, -0.96233057,\n",
              "       -0.96443969, -0.96648912, -0.96847873, -0.9704084 , -0.97227802,\n",
              "       -0.97408746, -0.97583661, -0.97752537, -0.97915362, -0.98072128,\n",
              "       -0.98222824, -0.9836744 , -0.98505969, -0.98638401, -0.98764728,\n",
              "       -0.98884943, -0.98999038, -0.99107005, -0.99208839, -0.99304532,\n",
              "       -0.9939408 , -0.99477475, -0.99554715, -0.99625792, -0.99690704,\n",
              "       -0.99749446, -0.99802014, -0.99848405, -0.99888617, -0.99922646,\n",
              "       -0.99950491, -0.9997215 , -0.99987622, -0.99996905, -1.        ])"
            ]
          },
          "metadata": {},
          "execution_count": 8
        }
      ]
    },
    {
      "cell_type": "code",
      "source": [
        "plt.plot(n,xn)"
      ],
      "metadata": {
        "colab": {
          "base_uri": "https://localhost:8080/",
          "height": 447
        },
        "id": "WWqpiUlsvrZc",
        "outputId": "3c3475e2-5156-454e-9615-979b900522b1"
      },
      "execution_count": 9,
      "outputs": [
        {
          "output_type": "execute_result",
          "data": {
            "text/plain": [
              "[<matplotlib.lines.Line2D at 0x7ed24819c730>]"
            ]
          },
          "metadata": {},
          "execution_count": 9
        },
        {
          "output_type": "display_data",
          "data": {
            "text/plain": [
              "<Figure size 640x480 with 1 Axes>"
            ],
            "image/png": "[encoded data removed]"
          },
          "metadata": {}
        }
      ]
    },
    {
      "cell_type": "code",
      "source": [
        "yf = fft(xn)\n",
        "xf = fftfreq(N,T)\n",
        "\n",
        "plt.stem(xf,np.abs(yf))"
      ],
      "metadata": {
        "colab": {
          "base_uri": "https://localhost:8080/",
          "height": 447
        },
        "id": "tafyc1IcwMDM",
        "outputId": "1ce99d9e-77e6-4035-f169-40ef3955f5f0"
      },
      "execution_count": 10,
      "outputs": [
        {
          "output_type": "execute_result",
          "data": {
            "text/plain": [
              "<StemContainer object of 3 artists>"
            ]
          },
          "metadata": {},
          "execution_count": 10
        },
        {
          "output_type": "display_data",
          "data": {
            "text/plain": [
              "<Figure size 640x480 with 1 Axes>"
            ],
            "image/png": "[encoded data removed]"
          },
          "metadata": {}
        }
      ]
    }
  ]
}